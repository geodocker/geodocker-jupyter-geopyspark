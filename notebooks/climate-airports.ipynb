{
 "cells": [
  {
   "cell_type": "code",
   "execution_count": null,
   "metadata": {
    "collapsed": false
   },
   "outputs": [],
   "source": [
    "import json\n",
    "import geopyspark as gps\n",
    "import fiona\n",
    "import pyproj\n",
    "\n",
    "from functools import partial\n",
    "from pyspark import SparkContext\n",
    "from geopyspark_netcdf.datasets import Gddp\n",
    "from shapely.geometry import shape, MultiPoint\n",
    "from shapely.ops import transform\n",
    "from geonotebook.wrappers import TMSRasterData, VectorData"
   ]
  },
  {
   "cell_type": "code",
   "execution_count": null,
   "metadata": {
    "collapsed": false
   },
   "outputs": [],
   "source": [
    "conf = gps.geopyspark_conf(appName=\"120+ Degrees\")\n",
    "conf.set('spark.ui.enabled', True)\n",
    "sc = SparkContext(conf=conf)"
   ]
  },
  {
   "cell_type": "markdown",
   "metadata": {},
   "source": [
    "# Reading in the Geometries"
   ]
  },
  {
   "cell_type": "code",
   "execution_count": null,
   "metadata": {
    "collapsed": false,
    "scrolled": false
   },
   "outputs": [],
   "source": [
    "M.set_center(-112.335, 33.497, 10)"
   ]
  },
  {
   "cell_type": "code",
   "execution_count": null,
   "metadata": {
    "collapsed": false
   },
   "outputs": [],
   "source": [
    "us_geojson = json.loads(open(\"/tmp/cont_usa.json\").read())\n",
    "us = shape(us_geojson['features'][0]['geometry'])\n",
    "\n",
    "with fiona.open(\"/tmp/cont_usa.json\") as source:\n",
    "    us_crs = source.crs['init']"
   ]
  },
  {
   "cell_type": "code",
   "execution_count": null,
   "metadata": {
    "collapsed": false
   },
   "outputs": [],
   "source": [
    "with fiona.open(\"/tmp/airports.geojson\") as source:\n",
    "    airports = MultiPoint([shape(f['geometry']) for f in source])\n",
    "    airports_crs = source.crs['init']"
   ]
  },
  {
   "cell_type": "code",
   "execution_count": null,
   "metadata": {
    "collapsed": true
   },
   "outputs": [],
   "source": [
    "# Reproject each Shapely geometry to EPSG:3857 so it can be\n",
    "# displayed on the map\n",
    "\n",
    "def create_partial_reprojection_func(crs):\n",
    "    return partial(pyproj.transform,\n",
    "                   pyproj.Proj(init=crs),\n",
    "                   pyproj.Proj(init='epsg:3857'))"
   ]
  },
  {
   "cell_type": "code",
   "execution_count": null,
   "metadata": {
    "collapsed": false
   },
   "outputs": [],
   "source": [
    "reprojected_aps = [transform(create_partial_reprojection_func(airports_crs), ap) for ap in airports]\n",
    "reprojected_us = transform(create_partial_reprojection_func(us_crs), us)"
   ]
  },
  {
   "cell_type": "markdown",
   "metadata": {},
   "source": [
    "# Reading in the NetCDF Data"
   ]
  },
  {
   "cell_type": "code",
   "execution_count": null,
   "metadata": {
    "collapsed": true
   },
   "outputs": [],
   "source": [
    "#uri_2017 = \"/tmp/tasmax_day_BCSD_rcp85_r1i1p1_GFDL-CM3_2017.nc\"\n",
    "#uri_2040 = \"/tmp/tasmax_day_BCSD_rcp85_r1i1p1_GFDL-CM3_2040.nc\"\n",
    "#uri_2075 = \"/tmp/tasmax_day_BCSD_rcp85_r1i1p1_GFDL-CM3_2075.nc\"\n",
    "\n",
    "uri_2017 = 's3://nasanex/NEX-GDDP/BCSD/rcp85/day/atmos/tasmax/r1i1p1/v1.0/tasmax_day_BCSD_rcp85_r1i1p1_GFDL-CM3_2017.nc'\n",
    "uri_2040 = 's3://nasanex/NEX-GDDP/BCSD/rcp85/day/atmos/tasmax/r1i1p1/v1.0/tasmax_day_BCSD_rcp85_r1i1p1_GFDL-CM3_2040.nc'\n",
    "uri_2075 = 's3://nasanex/NEX-GDDP/BCSD/rcp85/day/atmos/tasmax/r1i1p1/v1.0/tasmax_day_BCSD_rcp85_r1i1p1_GFDL-CM3_2075.nc'"
   ]
  },
  {
   "cell_type": "code",
   "execution_count": null,
   "metadata": {
    "collapsed": true
   },
   "outputs": [],
   "source": [
    "days = range(0, 365)"
   ]
  },
  {
   "cell_type": "code",
   "execution_count": null,
   "metadata": {
    "collapsed": false,
    "scrolled": true
   },
   "outputs": [],
   "source": [
    "layer_2017 = Gddp.rdd_of_rasters(uri_2017, us.bounds, days)\n",
    "layer_2040 = Gddp.rdd_of_rasters(uri_2040, us.bounds, days)\n",
    "layer_2075 = Gddp.rdd_of_rasters(uri_2075, us.bounds, days)"
   ]
  },
  {
   "cell_type": "markdown",
   "metadata": {},
   "source": [
    "# Reclassifying the NetCDF Data"
   ]
  },
  {
   "cell_type": "code",
   "execution_count": null,
   "metadata": {
    "collapsed": true
   },
   "outputs": [],
   "source": [
    "def reclassify_layer(layer):\n",
    "    (layer_min, _) = layer.get_min_max()\n",
    "    \n",
    "    return layer.reclassify(\n",
    "        {layer_min: 0.0, 322.039: 1.0},\n",
    "        float,\n",
    "        gps.ClassificationStrategy.GREATER_THAN_OR_EQUAL_TO,\n",
    "        layer.layer_metadata.no_data_value)"
   ]
  },
  {
   "cell_type": "code",
   "execution_count": null,
   "metadata": {
    "collapsed": false
   },
   "outputs": [],
   "source": [
    "reclassified_layer_2017 = reclassify_layer(layer_2017)\n",
    "reclassified_layer_2040 = reclassify_layer(layer_2040)\n",
    "reclassified_layer_2075 = reclassify_layer(layer_2075)"
   ]
  },
  {
   "cell_type": "markdown",
   "metadata": {},
   "source": [
    "# Aggregating and Formatting the Data"
   ]
  },
  {
   "cell_type": "code",
   "execution_count": null,
   "metadata": {
    "collapsed": false
   },
   "outputs": [],
   "source": [
    "unioned_layer = gps.union(reclassified_layer_2017,\n",
    "                          reclassified_layer_2040,\n",
    "                          reclassified_layer_2075)"
   ]
  },
  {
   "cell_type": "code",
   "execution_count": null,
   "metadata": {
    "collapsed": false
   },
   "outputs": [],
   "source": [
    "spatial_tiled_layer = unioned_layer.to_spatial_layer(merge_duplicates=False)"
   ]
  },
  {
   "cell_type": "code",
   "execution_count": null,
   "metadata": {
    "collapsed": false
   },
   "outputs": [],
   "source": [
    "aggregated_tiled_layer = spatial_tiled_layer.aggregate_by_cell(gps.Operation.SUM).repartition(32)"
   ]
  },
  {
   "cell_type": "code",
   "execution_count": null,
   "metadata": {
    "collapsed": true
   },
   "outputs": [],
   "source": [
    "retiled_layer = aggregated_tiled_layer.tile_to_layout(gps.GlobalLayout(zoom=8),\n",
    "                                                      target_crs=3857\n",
    "                                                     ).repartition(32)"
   ]
  },
  {
   "cell_type": "code",
   "execution_count": null,
   "metadata": {
    "collapsed": true
   },
   "outputs": [],
   "source": [
    "masked = retiled_layer.mask(reprojected_us)"
   ]
  },
  {
   "cell_type": "markdown",
   "metadata": {},
   "source": [
    "# Displaying the Results"
   ]
  },
  {
   "cell_type": "code",
   "execution_count": null,
   "metadata": {
    "collapsed": false
   },
   "outputs": [],
   "source": [
    "pyramid = masked.pyramid().cache()"
   ]
  },
  {
   "cell_type": "code",
   "execution_count": null,
   "metadata": {
    "collapsed": false,
    "scrolled": true
   },
   "outputs": [],
   "source": [
    "hist = pyramid.get_histogram()"
   ]
  },
  {
   "cell_type": "code",
   "execution_count": null,
   "metadata": {
    "collapsed": false
   },
   "outputs": [],
   "source": [
    "breaks = [value for value, count in hist.bin_counts()]"
   ]
  },
  {
   "cell_type": "code",
   "execution_count": null,
   "metadata": {
    "collapsed": true
   },
   "outputs": [],
   "source": [
    "colormap = gps.ColorMap.build(breaks=breaks, colors='plasma')"
   ]
  },
  {
   "cell_type": "code",
   "execution_count": null,
   "metadata": {
    "collapsed": true
   },
   "outputs": [],
   "source": [
    "tms_server = gps.TMS.build(pyramid, display=colormap)"
   ]
  },
  {
   "cell_type": "code",
   "execution_count": null,
   "metadata": {
    "collapsed": false,
    "scrolled": true
   },
   "outputs": [],
   "source": [
    "M.add_layer(TMSRasterData(tms_server), name=\"Hot Days\")"
   ]
  },
  {
   "cell_type": "code",
   "execution_count": null,
   "metadata": {
    "collapsed": false
   },
   "outputs": [],
   "source": [
    "M.add_layer(VectorData(\"/tmp/airports.geojson\"), name=\"Airports\", colors=[0xff0000])"
   ]
  },
  {
   "cell_type": "code",
   "execution_count": null,
   "metadata": {
    "collapsed": false
   },
   "outputs": [],
   "source": [
    "for x in range(0, len(M.layers)):\n",
    "    M.remove_layer(M.layers[x])"
   ]
  }
 ],
 "metadata": {
  "kernelspec": {
   "display_name": "Geonotebook (Python 3)",
   "language": "python",
   "name": "geonotebook3"
  },
  "language_info": {
   "codemirror_mode": {
    "name": "ipython",
    "version": 3
   },
   "file_extension": ".py",
   "mimetype": "text/x-python",
   "name": "python",
   "nbconvert_exporter": "python",
   "pygments_lexer": "ipython3",
   "version": "3.5.1+"
  }
 },
 "nbformat": 4,
 "nbformat_minor": 2
}
