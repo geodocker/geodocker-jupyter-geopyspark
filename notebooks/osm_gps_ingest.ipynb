{
 "cells": [
  {
   "cell_type": "code",
   "execution_count": null,
   "metadata": {
    "collapsed": true
   },
   "outputs": [],
   "source": [
    "import geopyspark as gps\n",
    "from pyspark import SparkContext"
   ]
  },
  {
   "cell_type": "code",
   "execution_count": null,
   "metadata": {
    "collapsed": true
   },
   "outputs": [],
   "source": [
    "conf = gps.geopyspark_conf(appName=\"gps-osm-ingest\", master='yarn')\n",
    "conf.set(\"spark.hadoop.yarn.timeline-service.enabled\", False)\n",
    "conf.set('spark.ui.enabled', True)\n",
    "conf.set('spark.default.parallelism', 128)\n",
    "conf.set('spark.executor.memory', '9500M')\n",
    "conf.set('spark.executor.cores', 8)\n",
    "conf.set('spark.yarn.executor.memoryOverhead', '1500M')\n",
    "conf.set('spark.master.memory', '9500M')\n",
    "conf.set('spark.yarn.driver.memoryOverhead', '1500M')\n",
    "conf.set('spark.dynamicAllocation.enabled', True)\n",
    "conf.set('spark.shuffle.service.enabled', True)\n",
    "sc = SparkContext(conf=conf)"
   ]
  },
  {
   "cell_type": "code",
   "execution_count": null,
   "metadata": {
    "collapsed": true
   },
   "outputs": [],
   "source": [
    "uri = \"s3://geotrellis-test/dg-srtm/california.orc\""
   ]
  },
  {
   "cell_type": "code",
   "execution_count": null,
   "metadata": {
    "collapsed": true
   },
   "outputs": [],
   "source": [
    "features = gps.osm_reader.read(uri)\n",
    "lines = features.get_line_features_rdd()\n",
    "polygons = featuers.get_polygon_features_rdd()"
   ]
  },
  {
   "cell_type": "code",
   "execution_count": null,
   "metadata": {
    "collapsed": true
   },
   "outputs": [],
   "source": [
    "filtered_lines = lines.filter(lambda feature: 'highway' in feature.properties.tags or 'waterway' in feature.properties.tags)"
   ]
  },
  {
   "cell_type": "code",
   "execution_count": null,
   "metadata": {
    "collapsed": true
   },
   "outputs": [],
   "source": [
    "mapped_lines = filtered_lines.map(lambda feature: gps.Feature(feature.geometry, gps.CellValue(2, 2)))\n",
    "mapped_polygons = polygons.map(lambda feature: gps.Feature(feature.geometry, gps.CellValue(1, 1)))"
   ]
  },
  {
   "cell_type": "code",
   "execution_count": null,
   "metadata": {
    "collapsed": true
   },
   "outputs": [],
   "source": [
    "unioned_features = sc.union((mapped_lines, mapped_polygons))"
   ]
  },
  {
   "cell_type": "code",
   "execution_count": null,
   "metadata": {
    "collapsed": true
   },
   "outputs": [],
   "source": [
    "rasterized = gps.rasterize_features(unioned_features,\n",
    "                                    4326,\n",
    "                                    13,\n",
    "                                    cell_type=gps.CellType.INT8,\n",
    "                                    num_partitions=512)"
   ]
  },
  {
   "cell_type": "code",
   "execution_count": null,
   "metadata": {
    "collapsed": true
   },
   "outputs": [],
   "source": [
    "tiled_layer = rasterized.tile_to_layout(gps.GlobalLayout(zoom=13, tile_size=256), target_crs=4326)\n",
    "pyramid = tiled_layer.pyramid()"
   ]
  },
  {
   "cell_type": "code",
   "execution_count": null,
   "metadata": {
    "collapsed": true
   },
   "outputs": [],
   "source": [
    "for layer in pyrmaid.levels.values():\n",
    "    gps.write(\"s3://geotrellis-test/dg-osm-test\", \"gps-osm-ingest\", layer)"
   ]
  }
 ],
 "metadata": {
  "kernelspec": {
   "display_name": "Geonotebook (Python 3)",
   "language": "python",
   "name": "geonotebook3"
  },
  "language_info": {
   "codemirror_mode": {
    "name": "ipython",
    "version": 3
   },
   "file_extension": ".py",
   "mimetype": "text/x-python",
   "name": "python",
   "nbconvert_exporter": "python",
   "pygments_lexer": "ipython3",
   "version": "3.5.1+"
  }
 },
 "nbformat": 4,
 "nbformat_minor": 2
}
