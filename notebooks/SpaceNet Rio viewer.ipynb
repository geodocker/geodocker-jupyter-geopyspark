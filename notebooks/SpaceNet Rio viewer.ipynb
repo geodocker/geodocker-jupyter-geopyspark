{
 "cells": [
  {
   "cell_type": "markdown",
   "metadata": {},
   "source": [
    "# [Dependencies](https://spacenetchallenge.github.io/#Dependencies)\n",
    "> The [AWS Command Line Interface (CLI)](https://aws.amazon.com/cli/) must be installed with an active AWS account. Configure the AWS CLI using ‘aws configure’"
   ]
  },
  {
   "cell_type": "markdown",
   "metadata": {},
   "source": [
    "# [Accessing the SpaceNet Data on AWS](https://aws.amazon.com/public-datasets/spacenet/#Accessing_the_SpaceNet_Data_on_AWS)\n",
    "> The SpaceNet dataset is being released in several Areas of Interest. All AOIs will follow a similar directory structure and data format. The imagery is GeoTIFF satellite imagery and corresponding GeoJSON building footprints...\n",
    "\n",
    "> For more detailed information on how to access specific files within the dataset, see [here](https://github.com/SpaceNetChallenge/utilities/tree/master/content/download_instructions).\n",
    "\n",
    "> _The spacenet-dataset S3 bucket is provided as a Requester Pays bucket, see [here](https://docs.aws.amazon.com/AmazonS3/latest/dev/RequesterPaysBuckets.html) for more information._"
   ]
  },
  {
   "cell_type": "markdown",
   "metadata": {},
   "source": [
    "# Programmatically Download Rio Imagery and Building Footprints with [Boto](https://boto3.readthedocs.io/en/latest/index.html), the AWS SDK for Python\n",
    "Since the bucket is Request Pays, we use a [S3Transfer](https://boto3.readthedocs.io/en/latest/reference/customizations/s3.html#boto3.s3.transfer.S3Transfer) with the 'RequestPayer' download argument."
   ]
  },
  {
   "cell_type": "code",
   "execution_count": 1,
   "metadata": {},
   "outputs": [
    {
     "name": "stdout",
     "output_type": "stream",
     "text": [
      "Setting up paths for download\n"
     ]
    }
   ],
   "source": [
    "print(\"Setting up paths for download\")\n",
    "\n",
    "import os\n",
    "bucket = \"spacenet-dataset\"\n",
    "\n",
    "aoi_path = \"AOI_1_Rio\"\n",
    "aoi_data_path = os.path.join(aoi_path, \"srcData\")\n",
    "building_labels_path = os.path.join(aoi_data_path, \"buildingLabels\")\n",
    "mosaic_3band_path = os.path.join(aoi_data_path, \"mosaic_3band\")\n",
    "\n",
    "tmp_path = \"/tmp\"\n",
    "spacenet_data_path = os.path.join(tmp_path, \"spacenet-data\")\n",
    "if not os.path.exists(spacenet_data_path):\n",
    "    os.makedirs(spacenet_data_path)"
   ]
  },
  {
   "cell_type": "code",
   "execution_count": 2,
   "metadata": {},
   "outputs": [
    {
     "name": "stdout",
     "output_type": "stream",
     "text": [
      "Starting download\n",
      "Downloading Rio imagery\n",
      "Downloading AOI_1_Rio/srcData/mosaic_3band/013022223103.tif\n",
      "Downloading AOI_1_Rio/srcData/mosaic_3band/013022223112.tif\n",
      "Downloading AOI_1_Rio/srcData/mosaic_3band/013022223113.tif\n",
      "Downloading AOI_1_Rio/srcData/mosaic_3band/013022223121.tif\n",
      "Downloading AOI_1_Rio/srcData/mosaic_3band/013022223123.tif\n",
      "Downloading AOI_1_Rio/srcData/mosaic_3band/013022223130.tif\n",
      "Downloading AOI_1_Rio/srcData/mosaic_3band/013022223131.tif\n",
      "Downloading AOI_1_Rio/srcData/mosaic_3band/013022223132.tif\n",
      "Downloading AOI_1_Rio/srcData/mosaic_3band/013022223133.tif\n",
      "Downloading AOI_1_Rio/srcData/mosaic_3band/013022223301.tif\n",
      "Downloading AOI_1_Rio/srcData/mosaic_3band/013022223310.tif\n",
      "Downloading AOI_1_Rio/srcData/mosaic_3band/013022223311.tif\n",
      "Downloading AOI_1_Rio/srcData/mosaic_3band/013022232002.tif\n",
      "Downloading AOI_1_Rio/srcData/mosaic_3band/013022232003.tif\n",
      "Downloading AOI_1_Rio/srcData/mosaic_3band/013022232020.tif\n",
      "Downloading AOI_1_Rio/srcData/mosaic_3band/013022232021.tif\n",
      "Downloading AOI_1_Rio/srcData/mosaic_3band/013022232022.tif\n",
      "Downloading AOI_1_Rio/srcData/mosaic_3band/013022232023.tif\n",
      "Downloading AOI_1_Rio/srcData/mosaic_3band/013022232200.tif\n",
      "Downloading AOI_1_Rio/srcData/mosaic_3band/013022232201.tif\n",
      "Downloading Rio outline\n",
      "Downloading AOI_1_Rio/srcData/buildingLabels/Rio_OUTLINE_Public_AOI.geojson\n",
      "Downloading Rio building footprints\n",
      "Downloading AOI_1_Rio/srcData/buildingLabels/Rio_Buildings_Public_AOI_v2.geojson\n",
      "Finishing download after 0 minutes\n"
     ]
    }
   ],
   "source": [
    "import time\n",
    "import boto3\n",
    "from osgeo import gdal\n",
    "\n",
    "print(\"Starting download\")\n",
    "start = time.time()\n",
    "\n",
    "client = boto3.client(\"s3\")\n",
    "transfer = boto3.s3.transfer.S3Transfer(client)\n",
    "\n",
    "print(\"Downloading Rio imagery\")\n",
    "\n",
    "mosaic_3band_object_list = client.list_objects_v2(\n",
    "    Bucket=bucket, Prefix=mosaic_3band_path,\n",
    "    RequestPayer='requester')\n",
    "mosaic_3band_key_list = [obj[\"Key\"] for obj in mosaic_3band_object_list[\"Contents\"]]\n",
    "\n",
    "for mosiac_3band_key in mosaic_3band_key_list:\n",
    "    print(\"Downloading %s\" % mosiac_3band_key)\n",
    "    mosiac_3band_name = mosiac_3band_key.split(\"/\")[-1]\n",
    "    mosiac_3band_filename = os.path.join(tmp_path, mosiac_3band_name)\n",
    "    if (not os.path.isfile(mosiac_3band_filename)):\n",
    "        transfer.download_file(\n",
    "            bucket=bucket, key=mosiac_3band_key, filename=mosiac_3band_filename,\n",
    "            extra_args={\"RequestPayer\":\"requester\"})\n",
    "        # Decompressor.scala: \"compression type JPEG is not supported by this reader.\"\n",
    "        translated_mosiac_3band_filename = os.path.join(spacenet_data_path, mosiac_3band_name)\n",
    "        print(\"Translating without JPEG compression to %s\" % translated_mosiac_3band_filename)\n",
    "        gdal.Translate(\n",
    "            destName=translated_mosiac_3band_filename, srcDS=mosiac_3band_filename,\n",
    "            creationOptions = ['COMPRESS=LZW']\n",
    "        )\n",
    "\n",
    "print(\"Downloading Rio outline\")\n",
    "outline_name = \"Rio_OUTLINE_Public_AOI.geojson\"\n",
    "outline_key = os.path.join(building_labels_path, outline_name)\n",
    "outline_filename = os.path.join(tmp_path, outline_name)\n",
    "\n",
    "print(\"Downloading %s\" % outline_key)\n",
    "transfer.download_file(\n",
    "    bucket=bucket, key=outline_key, filename=outline_filename,\n",
    "    extra_args={\"RequestPayer\":\"requester\"})\n",
    "\n",
    "print(\"Downloading Rio building footprints\")\n",
    "buildings_name = \"Rio_Buildings_Public_AOI_v2.geojson\"\n",
    "buildings_key = os.path.join(building_labels_path, buildings_name)\n",
    "buildings_filename = os.path.join(\"/tmp\", buildings_name)\n",
    "\n",
    "print(\"Downloading %s\" % buildings_key)\n",
    "transfer.download_file(\n",
    "    bucket=bucket, key=buildings_key, filename=buildings_filename,\n",
    "    extra_args={\"RequestPayer\":\"requester\"})\n",
    "\n",
    "end = time.time()\n",
    "seconds = end - start\n",
    "minutes = seconds/60\n",
    "print(\"Finishing download after %d minutes\" % minutes)"
   ]
  },
  {
   "cell_type": "code",
   "execution_count": 3,
   "metadata": {},
   "outputs": [
    {
     "name": "stdout",
     "output_type": "stream",
     "text": [
      "Reading geojson of Rio outline to vector data\n",
      "Centering map at centroid of Rio outline vector\n",
      "Adding layer of Rio outline vector\n"
     ]
    }
   ],
   "source": [
    "print(\"Reading geojson of Rio outline to vector data\")\n",
    "\n",
    "from geonotebook.wrappers import VectorData\n",
    "outline_vector = VectorData(outline_filename)\n",
    "print(\"Centering map at centroid of Rio outline vector\")\n",
    "outline_polygons = [polygon for polygon in outline_vector.polygons]\n",
    "outline_polygon = outline_polygons[0]\n",
    "outline_centroid = outline_polygon.centroid\n",
    "x = outline_centroid.x\n",
    "y = outline_centroid.y\n",
    "z = 11\n",
    "M.set_center(x, y, z)\n",
    "print(\"Adding layer of Rio outline vector\")\n",
    "M.add_layer(outline_vector, name=outline_name);"
   ]
  },
  {
   "cell_type": "code",
   "execution_count": 4,
   "metadata": {
    "collapsed": true
   },
   "outputs": [],
   "source": [
    "# buildings_vector = VectorData(buildings_filename)\n",
    "# M.add_layer(building_vector, name=buildings_name);"
   ]
  },
  {
   "cell_type": "code",
   "execution_count": 4,
   "metadata": {},
   "outputs": [
    {
     "name": "stdout",
     "output_type": "stream",
     "text": [
      "Setting up Spark context for ingest of Rio imagery\n"
     ]
    }
   ],
   "source": [
    "print(\"Setting up Spark context for ingest of Rio imagery\")\n",
    "import geopyspark as gps\n",
    "from pyspark import SparkContext\n",
    "conf = gps.geopyspark_conf(\"local[*]\", \"spacenet-ingest\")\n",
    "sc = SparkContext.getOrCreate(conf)"
   ]
  },
  {
   "cell_type": "code",
   "execution_count": null,
   "metadata": {},
   "outputs": [],
   "source": [
    "print(\"Ingesting Rio imagery\")\n",
    "# Ingest takes X minutes.\n",
    "import time\n",
    "start = time.time()\n",
    "\n",
    "from geopyspark.geotrellis.geotiff import get\n",
    "from geopyspark.geotrellis.constants import LayerType\n",
    "from geopyspark.geotrellis.catalog import write\n",
    "\n",
    "# Read the GeoTiff locally\n",
    "catalog_uri = \"/tmp/spacenet-data/\"\n",
    "rdd = get(LayerType.SPATIAL, catalog_uri)\n",
    "# Error: https://github.com/locationtech/geotrellis/issues/2268\n",
    "metadata = rdd.collect_metadata()\n",
    "\n",
    "# tile the rdd to the layout defined in the metadata\n",
    "laid_out = rdd.tile_to_layout(metadata)\n",
    "\n",
    "# reproject the tiled rasters using a ZoomedLayoutScheme\n",
    "reprojected = laid_out.reproject(\"EPSG:3857\").cache().repartition(200)\n",
    "\n",
    "# pyramid the TiledRasterRDD to create 12 new TiledRasterRDDs\n",
    "# one for each zoom level\n",
    "pyramided = reprojected.pyramid(start_zoom=12, end_zoom=1)\n",
    "\n",
    "# Save each TiledRasterRDD locally\n",
    "for tiled in pyramided:\n",
    "    write(\"file:///tmp/spacenet-catalog\", \"spacenet-ingest\", tiled)\n",
    "\n",
    "end = time.time()\n",
    "ingest_time = end - start\n",
    "minutes = int(ingest_time)/60\n",
    "print(\"Ingest time: %d minutes\" % minutes)"
   ]
  },
  {
   "cell_type": "code",
   "execution_count": null,
   "metadata": {
    "collapsed": true
   },
   "outputs": [],
   "source": []
  }
 ],
 "metadata": {
  "kernelspec": {
   "display_name": "GeoNotebook + GeoPySpark",
   "language": "python",
   "name": "geonotebook3"
  },
  "language_info": {
   "codemirror_mode": {
    "name": "ipython",
    "version": 3
   },
   "file_extension": ".py",
   "mimetype": "text/x-python",
   "name": "python",
   "nbconvert_exporter": "python",
   "pygments_lexer": "ipython3",
   "version": "3.4.5"
  }
 },
 "nbformat": 4,
 "nbformat_minor": 2
}
