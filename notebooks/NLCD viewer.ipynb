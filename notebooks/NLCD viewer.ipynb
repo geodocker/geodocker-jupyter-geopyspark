{
 "cells": [
  {
   "cell_type": "code",
   "execution_count": 3,
   "metadata": {
    "collapsed": false
   },
   "outputs": [],
   "source": [
    "from functools import partial\n",
    "import geopyspark as gps\n",
    "import numpy as np\n",
    "import fiona\n",
    "import json\n",
    "import pyproj\n",
    "\n",
    "from pyspark import SparkContext\n",
    "from colortools import Color\n",
    "\n",
    "from shapely.geometry import mapping, shape\n",
    "from shapely.ops import transform\n",
    "from geonotebook.vis.geotrellis.render_methods import render_nlcd, single_band_render_from_color_map\n",
    "from geonotebook.wrappers import TMSRasterData, VectorData"
   ]
  },
  {
   "cell_type": "code",
   "execution_count": 4,
   "metadata": {
    "collapsed": false
   },
   "outputs": [],
   "source": [
    "conf = gps.geopyspark_conf(master=\"local[*]\", appName=\"NLCD Viewer\")\n",
    "sc = SparkContext(conf=conf)"
   ]
  },
  {
   "cell_type": "code",
   "execution_count": 5,
   "metadata": {
    "collapsed": true
   },
   "outputs": [],
   "source": [
    "catalog_uri = \"s3://azavea-datahub/catalog\"\n",
    "layer_name = \"nlcd-tms-epsg3857\""
   ]
  },
  {
   "cell_type": "markdown",
   "metadata": {},
   "source": [
    "## Vieweing NLCD"
   ]
  },
  {
   "cell_type": "code",
   "execution_count": null,
   "metadata": {
    "collapsed": false
   },
   "outputs": [],
   "source": [
    "M.set_center(-120.32, 47.84, 7)"
   ]
  },
  {
   "cell_type": "code",
   "execution_count": null,
   "metadata": {
    "collapsed": true
   },
   "outputs": [],
   "source": [
    "nlcd_cmap = gps.ColorMap.nlcd_colormap()\n",
    "nlcd_tms_server = gps.TMS.build((catalog_uri, layer_name), nlcd_cmap)"
   ]
  },
  {
   "cell_type": "code",
   "execution_count": null,
   "metadata": {
    "collapsed": false
   },
   "outputs": [],
   "source": [
    "M.add_layer(TMSRasterData(nlcd_tms_server), name=\"NLCD\")"
   ]
  },
  {
   "cell_type": "markdown",
   "metadata": {},
   "source": [
    "## Viewing reclassified tiles"
   ]
  },
  {
   "cell_type": "code",
   "execution_count": null,
   "metadata": {
    "collapsed": true
   },
   "outputs": [],
   "source": [
    "def reclass(tile):\n",
    "    # Planted/Cultivated\n",
    "    # See https://www.mrlc.gov/nlcd11_leg.php\n",
    "    result = tile.copy()\n",
    "    result[np.ma.where((80 <= tile) & (tile < 90))] = 1\n",
    "    result[np.ma.where((tile  < 80) | (90 <= tile))] = 0\n",
    "    return result\n",
    "     \n",
    "cmap = { 0 : \"#00000000\", 1: \"#CA9146FF\" }\n",
    "cmap_render = single_band_render_from_color_map(cmap)\n",
    "\n",
    "def reclass_render(tile):\n",
    "    reclassed = reclass(tile[0])\n",
    "    return cmap_render(reclassed)"
   ]
  },
  {
   "cell_type": "code",
   "execution_count": null,
   "metadata": {
    "collapsed": false
   },
   "outputs": [],
   "source": [
    "M.remove_layer(M.layers[0])"
   ]
  },
  {
   "cell_type": "code",
   "execution_count": null,
   "metadata": {
    "collapsed": false
   },
   "outputs": [],
   "source": [
    "M.add_layer(TMSRasterData(nlcd_tms_server), render_tile=reclass_render)"
   ]
  },
  {
   "cell_type": "markdown",
   "metadata": {},
   "source": [
    "## Chattanooga geometry"
   ]
  },
  {
   "cell_type": "code",
   "execution_count": null,
   "metadata": {
    "collapsed": false
   },
   "outputs": [],
   "source": [
    "!curl -o /tmp/mask.json https://s3.amazonaws.com/chattademo/chatta_mask.json"
   ]
  },
  {
   "cell_type": "code",
   "execution_count": 6,
   "metadata": {
    "collapsed": false
   },
   "outputs": [],
   "source": [
    "project = partial(\n",
    "    pyproj.transform,\n",
    "    pyproj.Proj(init='epsg:4326'),\n",
    "    pyproj.Proj(init='epsg:3857'))\n",
    "\n",
    "txt = open('/tmp/mask.json').read()\n",
    "js = json.loads(txt)\n",
    "geom = shape(js)\n",
    "center = geom.centroid\n",
    "chatta_poly = transform(project, geom)"
   ]
  },
  {
   "cell_type": "code",
   "execution_count": null,
   "metadata": {
    "collapsed": true
   },
   "outputs": [],
   "source": [
    "chatta_poly"
   ]
  },
  {
   "cell_type": "code",
   "execution_count": null,
   "metadata": {
    "collapsed": false
   },
   "outputs": [],
   "source": [
    "M.remove_layer(M.layers[0])"
   ]
  },
  {
   "cell_type": "code",
   "execution_count": null,
   "metadata": {
    "collapsed": false
   },
   "outputs": [],
   "source": [
    "vd = VectorData(\"/tmp/mask.json\")\n",
    "name = \"Outline\"\n",
    "M.add_layer(vd, name=name)"
   ]
  },
  {
   "cell_type": "code",
   "execution_count": null,
   "metadata": {
    "collapsed": false
   },
   "outputs": [],
   "source": [
    "M.set_center(center.x, center.y, 9)"
   ]
  },
  {
   "cell_type": "markdown",
   "metadata": {},
   "source": [
    "## Fetching an RDD of NLCD masked to Chattanooga"
   ]
  },
  {
   "cell_type": "code",
   "execution_count": 7,
   "metadata": {
    "collapsed": true
   },
   "outputs": [],
   "source": [
    "query_rdd = gps.query(gps.LayerType.SPATIAL,\n",
    "                      catalog_uri,\n",
    "                      layer_name,\n",
    "                      12,\n",
    "                      query_geom=chatta_poly)"
   ]
  },
  {
   "cell_type": "code",
   "execution_count": 8,
   "metadata": {
    "collapsed": true
   },
   "outputs": [],
   "source": [
    "masked = query_rdd.mask([chatta_poly])"
   ]
  },
  {
   "cell_type": "code",
   "execution_count": null,
   "metadata": {
    "collapsed": false
   },
   "outputs": [],
   "source": [
    "M.remove_layer(M.layers[0])"
   ]
  },
  {
   "cell_type": "code",
   "execution_count": null,
   "metadata": {
    "collapsed": true
   },
   "outputs": [],
   "source": [
    "masked_tms_server = gps.TMS.build(masked.pyramid(), display=nlcd_cmap)"
   ]
  },
  {
   "cell_type": "code",
   "execution_count": null,
   "metadata": {
    "collapsed": false
   },
   "outputs": [],
   "source": [
    "M.add_layer(TMSRasterData(masked_tms_server), name=\"Masked NLCD\")"
   ]
  },
  {
   "cell_type": "markdown",
   "metadata": {},
   "source": [
    "## Reclassifying an RDD"
   ]
  },
  {
   "cell_type": "code",
   "execution_count": 9,
   "metadata": {
    "collapsed": false
   },
   "outputs": [],
   "source": [
    "reclassified = masked.reclassify({0: 1, 80: 2, 90: 1},\n",
    "                                 int,\n",
    "                                 gps.ClassificationStrategy.GREATER_THAN_OR_EQUAL_TO).repartition(150)"
   ]
  },
  {
   "cell_type": "code",
   "execution_count": 10,
   "metadata": {
    "collapsed": true
   },
   "outputs": [],
   "source": [
    "colors = gps.get_colors_from_colors(\n",
    "    [Color(\"#CA9146FF\"), Color(\"#00FFAA88\")])\n",
    "\n",
    "breaks = {\n",
    "    1: colors[0],\n",
    "    2: colors[1]\n",
    "}\n",
    "\n",
    "reclassified_cmap = gps.ColorMap.build(breaks)"
   ]
  },
  {
   "cell_type": "code",
   "execution_count": 11,
   "metadata": {
    "collapsed": false
   },
   "outputs": [],
   "source": [
    "# This works and displays fine\n",
    "reclassified_tms_server = gps.TMS.build(reclassified.pyramid(), display=reclassified_cmap)"
   ]
  },
  {
   "cell_type": "code",
   "execution_count": 13,
   "metadata": {
    "collapsed": false,
    "scrolled": true
   },
   "outputs": [
    {
     "data": {
      "text/plain": [
       "<promise.promise.Promise at 0x7f93c6eaa5c0>"
      ]
     },
     "execution_count": 13,
     "metadata": {},
     "output_type": "execute_result"
    }
   ],
   "source": [
    "M.remove_layer(M.layers[0])"
   ]
  },
  {
   "cell_type": "code",
   "execution_count": 12,
   "metadata": {
    "collapsed": false
   },
   "outputs": [
    {
     "data": {
      "text/plain": [
       "<promise.promise.Promise at 0x7f93c6eb5f28>"
      ]
     },
     "execution_count": 12,
     "metadata": {},
     "output_type": "execute_result"
    }
   ],
   "source": [
    "M.add_layer(TMSRasterData(reclassified_tms_server), name=\"Reclassified NLCD\")"
   ]
  },
  {
   "cell_type": "markdown",
   "metadata": {},
   "source": [
    "## Saving the reclassified layer locally"
   ]
  },
  {
   "cell_type": "code",
   "execution_count": 15,
   "metadata": {
    "collapsed": true
   },
   "outputs": [],
   "source": [
    "local_catalog_uri = \"file:///tmp/catalog\"\n",
    "local_layer_name = \"cultivated-land-cover\""
   ]
  },
  {
   "cell_type": "code",
   "execution_count": 10,
   "metadata": {
    "collapsed": false
   },
   "outputs": [],
   "source": [
    "for layer in reclassified.pyramid().levels.values():\n",
    "    gps.write(local_catalog_uri, local_layer_name, layer)"
   ]
  },
  {
   "cell_type": "markdown",
   "metadata": {},
   "source": [
    "## Viewing the local Layer"
   ]
  },
  {
   "cell_type": "code",
   "execution_count": 16,
   "metadata": {
    "collapsed": false
   },
   "outputs": [],
   "source": [
    "# This does not display anything\n",
    "local_tms_server = gps.TMS.build((local_catalog_uri, local_layer_name), reclassified_cmap)"
   ]
  },
  {
   "cell_type": "code",
   "execution_count": null,
   "metadata": {
    "collapsed": false,
    "scrolled": true
   },
   "outputs": [],
   "source": [
    "M.remove_layer(M.layers[0])"
   ]
  },
  {
   "cell_type": "code",
   "execution_count": 17,
   "metadata": {
    "collapsed": false,
    "scrolled": false
   },
   "outputs": [
    {
     "data": {
      "text/plain": [
       "<promise.promise.Promise at 0x7f93c6eb51d0>"
      ]
     },
     "execution_count": 17,
     "metadata": {},
     "output_type": "execute_result"
    }
   ],
   "source": [
    "M.add_layer(TMSRasterData(local_tms_server), name=\"Local NLCD\")"
   ]
  },
  {
   "cell_type": "code",
   "execution_count": null,
   "metadata": {
    "collapsed": true
   },
   "outputs": [],
   "source": [
    "layers = [gps.query(gps.LayerType.SPATIAL, local_catalog_uri, local_layer_name, x) for x in range(0, 11)]"
   ]
  },
  {
   "cell_type": "code",
   "execution_count": null,
   "metadata": {
    "collapsed": true
   },
   "outputs": [],
   "source": [
    "read_in_pyramid = gps.Pyramid(layers)"
   ]
  },
  {
   "cell_type": "code",
   "execution_count": null,
   "metadata": {
    "collapsed": true
   },
   "outputs": [],
   "source": [
    "# This cannot display as well\n",
    "server = gps.TMS.build(read_in_pyramid, reclassified_cmap)"
   ]
  },
  {
   "cell_type": "code",
   "execution_count": null,
   "metadata": {
    "collapsed": false
   },
   "outputs": [],
   "source": [
    "M.add_layer(TMSRasterData(server), name=\"Local NLCD\")"
   ]
  }
 ],
 "metadata": {
  "kernelspec": {
   "display_name": "Geonotebook (Python 3)",
   "language": "python",
   "name": "geonotebook3"
  },
  "language_info": {
   "codemirror_mode": {
    "name": "ipython",
    "version": 3
   },
   "file_extension": ".py",
   "mimetype": "text/x-python",
   "name": "python",
   "nbconvert_exporter": "python",
   "pygments_lexer": "ipython3",
   "version": "3.5.1+"
  }
 },
 "nbformat": 4,
 "nbformat_minor": 2
}
