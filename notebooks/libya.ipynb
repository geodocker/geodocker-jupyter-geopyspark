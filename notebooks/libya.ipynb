{
 "cells": [
  {
   "cell_type": "markdown",
   "metadata": {},
   "source": [
    "# Finding the Cost of Traversing Through Libya\n",
    "\n",
    "In this notebook, we will be calculating and visulizing the cost distance of traveling from one population center to another by road while avoiding conflict zones in Libya."
   ]
  },
  {
   "cell_type": "markdown",
   "metadata": {},
   "source": [
    "## Import and Setup SparkContext"
   ]
  },
  {
   "cell_type": "code",
   "execution_count": null,
   "metadata": {
    "collapsed": false
   },
   "outputs": [],
   "source": [
    "import os\n",
    "import json\n",
    "import requests\n",
    "from functools import partial\n",
    "import pyproj\n",
    "import geopyspark as gps\n",
    "\n",
    "from pyspark import SparkContext\n",
    "from geonotebook.wrappers import TMSRasterData, VectorData\n",
    "from shapely.geometry import shape, MultiPoint, MultiLineString\n",
    "from shapely.ops import transform"
   ]
  },
  {
   "cell_type": "code",
   "execution_count": null,
   "metadata": {
    "collapsed": true
   },
   "outputs": [],
   "source": [
    "conf = gps.geopyspark_conf(appName=\"MVP\", master=\"local[*]\")\n",
    "conf.set(\"spark.hadoop.yarn.timeline-service.enabled\", False)\n",
    "pysc = SparkContext.getOrCreate(conf)"
   ]
  },
  {
   "cell_type": "markdown",
   "metadata": {},
   "source": [
    "## Rasterize Libya Roads to RasterLayer"
   ]
  },
  {
   "cell_type": "code",
   "execution_count": null,
   "metadata": {
    "collapsed": false,
    "scrolled": true
   },
   "outputs": [],
   "source": [
    "libya_roads_json = requests.get('https://s3.amazonaws.com/geopyspark-demo/libya/roads.geojson').json()\n",
    "libya_roads = MultiLineString([shape(geom['geometry']) for geom in libya_roads_json['features']])"
   ]
  },
  {
   "cell_type": "code",
   "execution_count": null,
   "metadata": {
    "collapsed": false
   },
   "outputs": [],
   "source": [
    "# All execution time here is sending WKB over py4j socket\n",
    "ro = gps.RasterizerOptions(includePartial=True, sampleType='PixelIsArea')\n",
    "\n",
    "road_raster = gps.rasterize(geoms=libya_roads.geoms, \n",
    "                            crs=\"EPSG:3857\",\n",
    "                            zoom=8, \n",
    "                            fill_value=1,\n",
    "                            cell_type=gps.CellType.FLOAT32,\n",
    "                            options=ro,\n",
    "                            num_partitions=20)\n",
    "\n",
    "road_raster.layer_metadata.bounds"
   ]
  },
  {
   "cell_type": "markdown",
   "metadata": {},
   "source": [
    "## Show Rasterized Roads on a Map"
   ]
  },
  {
   "cell_type": "code",
   "execution_count": null,
   "metadata": {
    "collapsed": true
   },
   "outputs": [],
   "source": [
    "# Pyramid up from base layer\n",
    "road_pp = road_raster.pyramid().cache()"
   ]
  },
  {
   "cell_type": "code",
   "execution_count": null,
   "metadata": {
    "collapsed": false,
    "scrolled": true
   },
   "outputs": [],
   "source": [
    "# color map roads 1 to red\n",
    "roads_cm = gps.ColorMap.from_colors(breaks=[1], color_list=[0xff000080])\n",
    "\n",
    "# start JVM tile server and serve tiles to map\n",
    "server = gps.TMS.build(source=road_pp, display=roads_cm)\n",
    "M.add_layer(TMSRasterData(server), name=\"TMS\")"
   ]
  },
  {
   "cell_type": "code",
   "execution_count": null,
   "metadata": {
    "collapsed": false,
    "scrolled": true
   },
   "outputs": [],
   "source": [
    "M.remove_layer(M.layers[0])"
   ]
  },
  {
   "cell_type": "markdown",
   "metadata": {},
   "source": [
    "## Cost Distance Based on Road Network"
   ]
  },
  {
   "cell_type": "code",
   "execution_count": null,
   "metadata": {
    "collapsed": true
   },
   "outputs": [],
   "source": [
    "# road network will shape our friction layer\n",
    "road_friction = road_raster.reclassify(value_map={1:1},\n",
    "                                       data_type=int,\n",
    "                                       replace_nodata_with=10)"
   ]
  },
  {
   "cell_type": "code",
   "execution_count": null,
   "metadata": {
    "collapsed": false
   },
   "outputs": [],
   "source": [
    "# starting points for cost distance operation\n",
    "\n",
    "population_json = requests.get('https://s3.amazonaws.com/geopyspark-demo/libya/population.geojson').json()\n",
    "population_centers = MultiPoint([shape(geom['geometry']) for geom in population_json['features']])\n",
    "\n",
    "conflict_json = requests.get('https://s3.amazonaws.com/geopyspark-demo/libya/conflict.geojson').json()\n",
    "conflict_centers = MultiPoint([shape(feature['geometry']) for feature in conflict_json['features'] if feature['geometry'] != None])\n",
    "\n",
    "conflict_centers"
   ]
  },
  {
   "cell_type": "code",
   "execution_count": null,
   "metadata": {
    "collapsed": true
   },
   "outputs": [],
   "source": [
    "# Convert population centers data from EPSG:3857 to EPSG:4326 for display on map\n",
    "project = partial(\n",
    "    pyproj.transform,\n",
    "    pyproj.Proj(init='epsg:3857'),\n",
    "    pyproj.Proj(init='epsg:4326'))\n",
    "\n",
    "population_4326 = transform(project, population_centers)"
   ]
  },
  {
   "cell_type": "code",
   "execution_count": null,
   "metadata": {
    "collapsed": false
   },
   "outputs": [],
   "source": [
    "# Write reprojected data to file\n",
    "\n",
    "if 'VIRTUAL_ENV' in os.environ:\n",
    "    !pip3 install geojson\n",
    "else:\n",
    "    !pip3 install --user geojson\n",
    "    \n",
    "import geojson\n",
    "\n",
    "with open('/tmp/population-4326.geojson', 'w') as f:\n",
    "    geojson.dump(geojson.Feature(geometry=population_4326, properties={}), f)\n",
    "    f.flush()"
   ]
  },
  {
   "cell_type": "markdown",
   "metadata": {},
   "source": [
    "### Cost Distance Between Population Centers"
   ]
  },
  {
   "cell_type": "code",
   "execution_count": null,
   "metadata": {
    "collapsed": true
   },
   "outputs": [],
   "source": [
    "pop_cd = gps.cost_distance(\n",
    "    friction_layer=road_friction,\n",
    "    geometries=population_centers, \n",
    "    max_distance=1400000.0\n",
    ")\n",
    "\n",
    "pop_pp = pop_cd.pyramid()"
   ]
  },
  {
   "cell_type": "markdown",
   "metadata": {},
   "source": [
    "### Cost Distance Between Conflict Centers"
   ]
  },
  {
   "cell_type": "code",
   "execution_count": null,
   "metadata": {
    "collapsed": true
   },
   "outputs": [],
   "source": [
    "con_cd = gps.cost_distance(\n",
    "    friction_layer=road_friction,\n",
    "    geometries=conflict_centers, \n",
    "    max_distance=1400000.0\n",
    ")\n",
    "\n",
    "con_pp = con_cd.pyramid()"
   ]
  },
  {
   "cell_type": "markdown",
   "metadata": {},
   "source": [
    "## Displaying the Weighted Cost Distance Layer With Population Centers"
   ]
  },
  {
   "cell_type": "code",
   "execution_count": null,
   "metadata": {
    "collapsed": true
   },
   "outputs": [],
   "source": [
    "# prepare color map for weighted overlay based on max cost\n",
    "breaks = [x for x in range(0, 1000000, 10000)]\n",
    "colors = gps.get_colors_from_matplotlib(ramp_name='viridis', num_colors=len(breaks))\n",
    "wo_cm = gps.ColorMap.from_colors(breaks=breaks, color_list=colors)"
   ]
  },
  {
   "cell_type": "code",
   "execution_count": null,
   "metadata": {
    "collapsed": false,
    "scrolled": true
   },
   "outputs": [],
   "source": [
    "# our weighted layer avoids conflict centers focusing on just population centers\n",
    "weighted_overlay = (con_pp * 0.0) + (pop_pp * 1.0)\n",
    "\n",
    "server = gps.TMS.build(source=weighted_overlay, display=wo_cm)\n",
    "M.add_layer(TMSRasterData(server), name=\"WO\")\n",
    "M.add_layer(VectorData(\"/tmp/population-4326.geojson\"), name=\"Population\")"
   ]
  },
  {
   "cell_type": "markdown",
   "metadata": {},
   "source": [
    "## Removing the Layers From the Map"
   ]
  },
  {
   "cell_type": "code",
   "execution_count": null,
   "metadata": {
    "collapsed": false
   },
   "outputs": [],
   "source": [
    "# remove the next to last layer\n",
    "M.remove_layer(M.layers[-1])\n",
    "M.remove_layer(M.layers[0])"
   ]
  }
 ],
 "metadata": {
  "kernelspec": {
   "display_name": "Geonotebook (Python 3)",
   "language": "python",
   "name": "geonotebook3"
  },
  "language_info": {
   "codemirror_mode": {
    "name": "ipython",
    "version": 3
   },
   "file_extension": ".py",
   "mimetype": "text/x-python",
   "name": "python",
   "nbconvert_exporter": "python",
   "pygments_lexer": "ipython3",
   "version": "3.5.1+"
  }
 },
 "nbformat": 4,
 "nbformat_minor": 2
}
