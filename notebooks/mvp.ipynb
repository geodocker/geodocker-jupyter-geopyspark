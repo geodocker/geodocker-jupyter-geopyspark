{
 "cells": [
  {
   "cell_type": "code",
   "execution_count": null,
   "metadata": {
    "collapsed": true
   },
   "outputs": [],
   "source": [
    "from pyspark import SparkContext\n",
    "from pyspark.conf import SparkConf\n",
    "from pyspark import StorageLevel\n",
    "from geopyspark import geopyspark_conf\n",
    "from geopyspark.geotrellis import Extent\n",
    "from geopyspark.geotrellis.layer import TiledRasterLayer, Pyramid\n",
    "from geopyspark.geotrellis.color import ColorMap\n",
    "from geopyspark.geotrellis.constants import *\n",
    "import json\n",
    "import shapely\n",
    "from shapely.geometry import shape, asShape, MultiPoint, MultiLineString\n",
    "\n",
    "conf = geopyspark_conf(\"yarn-client\", \"MVP\")\n",
    "conf.set(\"spark.hadoop.yarn.timeline-service.enabled\", False)\n",
    "pysc = SparkContext.getOrCreate(conf)"
   ]
  },
  {
   "cell_type": "markdown",
   "metadata": {},
   "source": [
    "## Rasterize Libya Roads to Raster RDD"
   ]
  },
  {
   "cell_type": "code",
   "execution_count": null,
   "metadata": {
    "collapsed": true,
    "scrolled": true
   },
   "outputs": [],
   "source": [
    "import requests\n",
    "libya_roads_json = requests.get('https://s3.amazonaws.com/geopyspark-demo/libya/roads.geojson').json()\n",
    "libya_roads = MultiLineString([shape(geom['geometry']) for geom in libya_roads_json['features']])"
   ]
  },
  {
   "cell_type": "code",
   "execution_count": null,
   "metadata": {
    "collapsed": false
   },
   "outputs": [],
   "source": [
    "# Try to be friedly with python libraries like shapely\n",
    "from geopyspark import geotrellis\n",
    "Extent(*libya_roads.bounds)"
   ]
  },
  {
   "cell_type": "code",
   "execution_count": null,
   "metadata": {
    "collapsed": false
   },
   "outputs": [],
   "source": [
    "# All execution time here is sending WKB over py4j socket\n",
    "from geopyspark.geotrellis.rasterize import rasterize\n",
    "from geopyspark.geotrellis import RasterizerOptions\n",
    "\n",
    "ro = RasterizerOptions(includePartial=True, sampleType='PixelIsArea')\n",
    "\n",
    "road_raster = rasterize(pysc, geoms=libya_roads.geoms, \n",
    "                        crs=\"EPSG:3857\", zoom=8, \n",
    "                        fill_value=1, cell_type=\"float32\",\n",
    "                        options = ro,\n",
    "                        numPartitions = 20)\n",
    "\n",
    "road_raster.layer_metadata.bounds"
   ]
  },
  {
   "cell_type": "markdown",
   "metadata": {},
   "source": [
    "## Show Rasterized Roads on a Map"
   ]
  },
  {
   "cell_type": "code",
   "execution_count": null,
   "metadata": {
    "collapsed": true
   },
   "outputs": [],
   "source": [
    "# Pyramid up from base layer\n",
    "road_pp = road_raster.pyramid(start_zoom=8, end_zoom=1).cache()"
   ]
  },
  {
   "cell_type": "code",
   "execution_count": null,
   "metadata": {
    "collapsed": false
   },
   "outputs": [],
   "source": [
    "from geopyspark.geotrellis.tms import *\n",
    "from geonotebook.wrappers.raster import TMSRasterData\n",
    "\n",
    "# color map roads 1 to red\n",
    "roads_cm = ColorMap.from_colors(pysc, [1], [0xff000080])\n",
    "\n",
    "# start JVM tile server and serve tiles to map\n",
    "server = TMSServer.rdd_tms_server(pysc, road_pp, roads_cm)\n",
    "M.add_layer(TMSRasterData(server), name=\"TMS\")"
   ]
  },
  {
   "cell_type": "code",
   "execution_count": null,
   "metadata": {
    "collapsed": true
   },
   "outputs": [],
   "source": [
    "M.remove_layer(M.layers[0])"
   ]
  },
  {
   "cell_type": "markdown",
   "metadata": {},
   "source": [
    "## Cost Distance Based on Road Network"
   ]
  },
  {
   "cell_type": "code",
   "execution_count": null,
   "metadata": {
    "collapsed": true
   },
   "outputs": [],
   "source": [
    "# road network will shape our friction layer\n",
    "\n",
    "road_friction = (\n",
    "    road_raster\n",
    "    .reclassify({1:1}, data_type=int, replace_nodata_with=10)\n",
    ")"
   ]
  },
  {
   "cell_type": "code",
   "execution_count": null,
   "metadata": {
    "collapsed": false
   },
   "outputs": [],
   "source": [
    "# starting points for cost distance operation\n",
    "\n",
    "population_json = requests.get('https://s3.amazonaws.com/geopyspark-demo/libya/population.geojson').json()\n",
    "population_centers = MultiPoint([shape(geom['geometry']) for geom in population_json['features']])\n",
    "\n",
    "conflict_json = requests.get('https://s3.amazonaws.com/geopyspark-demo/libya/conflict.geojson').json()\n",
    "conflict_centers = MultiPoint([shape(feature['geometry']) for feature in conflict_json['features'] if feature['geometry'] != None])\n",
    "\n",
    "conflict_centers"
   ]
  },
  {
   "cell_type": "code",
   "execution_count": null,
   "metadata": {
    "collapsed": true
   },
   "outputs": [],
   "source": [
    "from geonotebook.wrappers import VectorData\n",
    "M.add_layer(VectorData(\"population.geojson\"), name=\"Population\")"
   ]
  },
  {
   "cell_type": "code",
   "execution_count": null,
   "metadata": {
    "collapsed": true
   },
   "outputs": [],
   "source": [
    "# wait for the iterations to settle\n",
    "from geopyspark.geotrellis.cost_distance import cost_distance\n",
    "\n",
    "pop_cd = cost_distance(\n",
    "    road_friction,\n",
    "    population_centers, \n",
    "    max_distance=1400000.0\n",
    ")\n",
    "\n",
    "pop_pp = pop_cd.pyramid(start_zoom=8, end_zoom=1)"
   ]
  },
  {
   "cell_type": "code",
   "execution_count": null,
   "metadata": {
    "collapsed": true
   },
   "outputs": [],
   "source": [
    "con_cd = cost_distance(\n",
    "    road_friction,\n",
    "    geometries = conflict_centers, \n",
    "    max_distance=1400000.0\n",
    ")\n",
    "\n",
    "con_pp = con_cd.pyramid(start_zoom=8, end_zoom=1)"
   ]
  },
  {
   "cell_type": "code",
   "execution_count": null,
   "metadata": {
    "collapsed": true
   },
   "outputs": [],
   "source": [
    "# prepare color map for weighted overlay based on max cost\n",
    "from geopyspark.geotrellis.color import get_colors_from_matplotlib\n",
    "breaks = [x for x in range(0, 1000000, 10000)]\n",
    "colors = get_colors_from_matplotlib('viridis', len(breaks))\n",
    "wo_cm = ColorMap.from_colors(pysc, breaks=breaks, color_list=colors)"
   ]
  },
  {
   "cell_type": "code",
   "execution_count": null,
   "metadata": {
    "collapsed": true
   },
   "outputs": [],
   "source": [
    "from geopyspark.geotrellis.tms import *\n",
    "from geonotebook.wrappers.raster import TMSRasterData"
   ]
  },
  {
   "cell_type": "code",
   "execution_count": null,
   "metadata": {
    "collapsed": false
   },
   "outputs": [],
   "source": [
    "weighted_overlay = (con_pp * 0.0) + (pop_pp * 1.0)\n",
    "\n",
    "server = TMSServer.rdd_tms_server(pysc, weighted_overlay, wo_cm)\n",
    "M.add_layer(TMSRasterData(server), name=\"WO\")"
   ]
  },
  {
   "cell_type": "code",
   "execution_count": null,
   "metadata": {
    "collapsed": true
   },
   "outputs": [],
   "source": [
    "# remove the next to last layer\n",
    "M.remove_layer(M.layers[-2])"
   ]
  }
 ],
 "metadata": {
  "kernelspec": {
   "display_name": "Geonotebook (Python 3)",
   "language": "python",
   "name": "geonotebook3"
  },
  "language_info": {
   "codemirror_mode": {
    "name": "ipython",
    "version": 3
   },
   "file_extension": ".py",
   "mimetype": "text/x-python",
   "name": "python",
   "nbconvert_exporter": "python",
   "pygments_lexer": "ipython3",
   "version": "3.6.1"
  }
 },
 "nbformat": 4,
 "nbformat_minor": 2
}
